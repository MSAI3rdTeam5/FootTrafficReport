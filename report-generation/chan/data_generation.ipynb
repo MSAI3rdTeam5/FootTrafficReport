{
 "cells": [
  {
   "cell_type": "code",
   "execution_count": 5,
   "metadata": {},
   "outputs": [
    {
     "name": "stdout",
     "output_type": "stream",
     "text": [
      "날짜를 포함한 CSV 파일이 성공적으로 생성되었습니다!\n"
     ]
    },
    {
     "name": "stderr",
     "output_type": "stream",
     "text": [
      "C:\\Users\\USER\\AppData\\Local\\Temp\\ipykernel_24096\\1773823223.py:10: FutureWarning: 'T' is deprecated and will be removed in a future version, please use 'min' instead.\n",
      "  time_intervals = pd.date_range(start=start_date, end=end_date, freq=\"10T\")\n"
     ]
    }
   ],
   "source": [
    "import pandas as pd\n",
    "import numpy as np\n",
    "from datetime import datetime, timedelta\n",
    "\n",
    "# 데이터 생성 \n",
    "def generate_data():\n",
    "    start_date = datetime(2024, 1, 1, 0, 0)  # 시작 날짜와 시간\n",
    "    end_date = datetime(2024, 1, 31, 23, 50)  # 종료 날짜와 시간\n",
    "    time_intervals = pd.date_range(start=start_date, end=end_date, freq=\"10T\")\n",
    "    \n",
    "    # 요일 계산\n",
    "    days_of_week = [\"월\", \"화\", \"수\", \"목\", \"금\", \"토\", \"일\"]\n",
    "    weekdays = [days_of_week[dt.weekday()] for dt in time_intervals]\n",
    "    \n",
    "    # 랜덤 값 생성 (1~200)\n",
    "    random_data = np.random.randint(1, 50, size=(len(time_intervals), 6))\n",
    "    random_data_v2 = np.random.randint(100, 201, size=(len(time_intervals), 6))\n",
    "    # 데이터프레임 생성\n",
    "    columns = [\"날짜\", \"시간\", \"요일\", \"남자 청년\", \"여자 청년\", \"남자 중장년\", \"여자 중장년\", \"남자 청소년 이하\", \"여자 청소년 이하\"]\n",
    "    data = pd.DataFrame({\n",
    "        \"날짜\": time_intervals.strftime(\"%Y-%m-%d\"),\n",
    "        \"시간\": time_intervals.strftime(\"%H:%M\"),\n",
    "        \"요일\": weekdays,\n",
    "        \"남자 청년\": random_data[:, 0],\n",
    "        \"여자 청년\": random_data[:, 1],\n",
    "        \"남자 중장년\": random_data[:, 2],\n",
    "        \"여자 중장년\": random_data[:, 3],\n",
    "        \"남자 청소년 이하\": random_data[:, 4],\n",
    "        \"여자 청소년 이하\": random_data[:, 5],\n",
    "    })\n",
    "    \n",
    "    return data\n",
    "\n",
    "# 데이터 생성 및 CSV 저장\n",
    "data = generate_data()\n",
    "data.to_csv(\"monthly_data_with_date.csv\", index=False, encoding=\"utf-8-sig\")\n",
    "\n",
    "print(\"날짜를 포함한 CSV 파일이 성공적으로 생성되었습니다!\")\n"
   ]
  },
  {
   "cell_type": "code",
   "execution_count": 7,
   "metadata": {},
   "outputs": [
    {
     "name": "stderr",
     "output_type": "stream",
     "text": [
      "C:\\Users\\USER\\AppData\\Local\\Temp\\ipykernel_24096\\3221101788.py:10: FutureWarning: 'T' is deprecated and will be removed in a future version, please use 'min' instead.\n",
      "  time_intervals = pd.date_range(start=start_date, end=end_date, freq=\"10T\")\n"
     ]
    },
    {
     "name": "stdout",
     "output_type": "stream",
     "text": [
      "가중치가 적용된 CSV 파일이 성공적으로 생성되었습니다!\n"
     ]
    }
   ],
   "source": [
    "import pandas as pd\n",
    "import numpy as np\n",
    "from datetime import datetime, timedelta\n",
    "\n",
    "# 데이터 생성\n",
    "def generate_data():\n",
    "    # 한 달 동안의 시간 생성 (10분 간격)\n",
    "    start_date = datetime(2024, 1, 1, 0, 0)  # 시작 날짜와 시간\n",
    "    end_date = datetime(2024, 1, 31, 23, 50)  # 종료 날짜와 시간\n",
    "    time_intervals = pd.date_range(start=start_date, end=end_date, freq=\"10T\")\n",
    "\n",
    "    # 요일 계산\n",
    "    days_of_week = [\"월\", \"화\", \"수\", \"목\", \"금\", \"토\", \"일\"]\n",
    "    weekdays = [days_of_week[dt.weekday()] for dt in time_intervals]\n",
    "\n",
    "    # 랜덤 값 생성 (1~200)\n",
    "    random_data = np.random.randint(1, 201, size=(len(time_intervals), 6))\n",
    "\n",
    "    # 데이터프레임 생성\n",
    "    columns = [\"날짜\", \"시간\", \"요일\", \"남자 청년\", \"여자 청년\", \"남자 중장년\", \"여자 중장년\", \"남자 청소년 이하\", \"여자 청소년 이하\"]\n",
    "    data = pd.DataFrame({\n",
    "        \"날짜\": time_intervals.strftime(\"%Y-%m-%d\"),\n",
    "        \"시간\": time_intervals.strftime(\"%H:%M\"),\n",
    "        \"요일\": weekdays,\n",
    "        \"남자 청년\": random_data[:, 0],\n",
    "        \"여자 청년\": random_data[:, 1],\n",
    "        \"남자 중장년\": random_data[:, 2],\n",
    "        \"여자 중장년\": random_data[:, 3],\n",
    "        \"남자 청소년 이하\": random_data[:, 4],\n",
    "        \"여자 청소년 이하\": random_data[:, 5],\n",
    "    })\n",
    "\n",
    "    return data\n",
    "\n",
    "# 주말, 월요일, 수요일, 금요일에 가중치 적용\n",
    "def apply_weights(data):\n",
    "    # 가중치 설정\n",
    "    weights = {\n",
    "        \"토\": 3,\n",
    "        \"일\": 3\n",
    "    }\n",
    "\n",
    "    # 가중치 적용 함수\n",
    "    def adjust_with_weights(row):\n",
    "        weight = weights.get(row[\"요일\"], 1)  # 기본 가중치는 1\n",
    "        for col in [\"남자 청년\", \"여자 청년\", \"남자 중장년\", \"여자 중장년\", \"남자 청소년 이하\", \"여자 청소년 이하\"]:\n",
    "            row[col] = row[col] * weight\n",
    "        return row\n",
    "\n",
    "    # 데이터에 가중치 적용\n",
    "    data = data.apply(adjust_with_weights, axis=1)\n",
    "    return data\n",
    "\n",
    "# 데이터 생성 및 가중치 적용\n",
    "data = generate_data()\n",
    "data_with_weights = apply_weights(data)\n",
    "\n",
    "# 결과 CSV 저장\n",
    "data_with_weights.to_csv(\"weekend_weighted.csv\", index=False, encoding=\"utf-8-sig\")\n",
    "\n",
    "print(\"가중치가 적용된 CSV 파일이 성공적으로 생성되었습니다!\")\n"
   ]
  },
  {
   "cell_type": "code",
   "execution_count": 9,
   "metadata": {},
   "outputs": [
    {
     "name": "stderr",
     "output_type": "stream",
     "text": [
      "C:\\Users\\USER\\AppData\\Local\\Temp\\ipykernel_24096\\3493433367.py:10: FutureWarning: 'T' is deprecated and will be removed in a future version, please use 'min' instead.\n",
      "  time_intervals = pd.date_range(start=start_date, end=end_date, freq=\"10T\")\n"
     ]
    },
    {
     "name": "stdout",
     "output_type": "stream",
     "text": [
      "가중치가 적용된 CSV 파일이 성공적으로 생성되었습니다!\n"
     ]
    }
   ],
   "source": [
    "import pandas as pd\n",
    "import numpy as np\n",
    "from datetime import datetime, timedelta\n",
    "\n",
    "# 데이터 생성\n",
    "def generate_data():\n",
    "    # 한 달 동안의 시간 생성 (10분 간격)\n",
    "    start_date = datetime(2024, 1, 1, 0, 0)  # 시작 날짜와 시간\n",
    "    end_date = datetime(2024, 1, 31, 23, 50)  # 종료 날짜와 시간\n",
    "    time_intervals = pd.date_range(start=start_date, end=end_date, freq=\"10T\")\n",
    "\n",
    "    # 요일 계산\n",
    "    days_of_week = [\"월\", \"화\", \"수\", \"목\", \"금\", \"토\", \"일\"]\n",
    "    weekdays = [days_of_week[dt.weekday()] for dt in time_intervals]\n",
    "\n",
    "    # 랜덤 값 생성 (1~200)\n",
    "    random_data = np.random.randint(1, 201, size=(len(time_intervals), 6))\n",
    "\n",
    "    # 데이터프레임 생성\n",
    "    columns = [\"날짜\", \"시간\", \"요일\", \"남자 청년\", \"여자 청년\", \"남자 중장년\", \"여자 중장년\", \"남자 청소년 이하\", \"여자 청소년 이하\"]\n",
    "    data = pd.DataFrame({\n",
    "        \"날짜\": time_intervals.strftime(\"%Y-%m-%d\"),\n",
    "        \"시간\": time_intervals.strftime(\"%H:%M\"),\n",
    "        \"요일\": weekdays,\n",
    "        \"남자 청년\": random_data[:, 0],\n",
    "        \"여자 청년\": random_data[:, 1],\n",
    "        \"남자 중장년\": random_data[:, 2],\n",
    "        \"여자 중장년\": random_data[:, 3],\n",
    "        \"남자 청소년 이하\": random_data[:, 4],\n",
    "        \"여자 청소년 이하\": random_data[:, 5],\n",
    "    })\n",
    "\n",
    "    return data\n",
    "\n",
    "# 남자 중년, 여자 중년에 가중치 적용\n",
    "def apply_weights(data):\n",
    "    # 가중치 설정\n",
    "    weights = {\n",
    "        \"남자 청년\": 3,\n",
    "        \"여자 청년\": 3,\n",
    "        \"남자 중장년\": 1,\n",
    "        \"여자 중장년\": 1,\n",
    "        \"남자 청소년 이하\": 1,\n",
    "        \"여자 청소년 이하\": 1\n",
    "    }\n",
    "\n",
    "    # 가중치 적용 함수\n",
    "    def adjust_with_weights(row):\n",
    "        for col, weight in weights.items():\n",
    "            row[col] = row[col] * weight\n",
    "        return row\n",
    "\n",
    "    # 데이터에 가중치 적용\n",
    "    data = data.apply(adjust_with_weights, axis=1)\n",
    "    return data\n",
    "\n",
    "# 데이터 생성 및 가중치 적용\n",
    "data = generate_data()\n",
    "data_with_weights = apply_weights(data)\n",
    "\n",
    "# 결과 CSV 저장\n",
    "data_with_weights.to_csv(\"youth_weight.csv\", index=False, encoding=\"utf-8-sig\")\n",
    "\n",
    "print(\"가중치가 적용된 CSV 파일이 성공적으로 생성되었습니다!\")"
   ]
  },
  {
   "cell_type": "code",
   "execution_count": null,
   "metadata": {},
   "outputs": [],
   "source": []
  }
 ],
 "metadata": {
  "kernelspec": {
   "display_name": "Python 3",
   "language": "python",
   "name": "python3"
  },
  "language_info": {
   "codemirror_mode": {
    "name": "ipython",
    "version": 3
   },
   "file_extension": ".py",
   "mimetype": "text/x-python",
   "name": "python",
   "nbconvert_exporter": "python",
   "pygments_lexer": "ipython3",
   "version": "3.12.5"
  }
 },
 "nbformat": 4,
 "nbformat_minor": 2
}
