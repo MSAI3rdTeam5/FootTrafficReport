{
 "cells": [
  {
   "cell_type": "code",
   "execution_count": 2,
   "metadata": {},
   "outputs": [],
   "source": [
    "import pandas as pd\n",
    "\n",
    "# CSV 파일 읽기\n",
    "df = pd.read_csv('dataset/gender_age_label_df.csv')\n",
    "\n",
    "# [라벨]Training을 dataset/Label로 변경\n",
    "df['img_folder'] = df['img_folder'].replace('[라벨]Training', 'dataset/Label')\n",
    "\n",
    "# 변경된 데이터프레임을 CSV 파일로 저장\n",
    "df.to_csv('gender_age_label_df.csv', index=False)\n"
   ]
  },
  {
   "cell_type": "code",
   "execution_count": null,
   "metadata": {},
   "outputs": [],
   "source": []
  }
 ],
 "metadata": {
  "kernelspec": {
   "display_name": "Conda_VM",
   "language": "python",
   "name": "python3"
  },
  "language_info": {
   "codemirror_mode": {
    "name": "ipython",
    "version": 3
   },
   "file_extension": ".py",
   "mimetype": "text/x-python",
   "name": "python",
   "nbconvert_exporter": "python",
   "pygments_lexer": "ipython3",
   "version": "3.11.11"
  }
 },
 "nbformat": 4,
 "nbformat_minor": 2
}
